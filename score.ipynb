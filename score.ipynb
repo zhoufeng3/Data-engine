{
 "cells": [
  {
   "cell_type": "code",
   "execution_count": 45,
   "metadata": {},
   "outputs": [
    {
     "data": {
      "text/html": [
       "<div>\n",
       "<style scoped>\n",
       "    .dataframe tbody tr th:only-of-type {\n",
       "        vertical-align: middle;\n",
       "    }\n",
       "\n",
       "    .dataframe tbody tr th {\n",
       "        vertical-align: top;\n",
       "    }\n",
       "\n",
       "    .dataframe thead th {\n",
       "        text-align: right;\n",
       "    }\n",
       "</style>\n",
       "<table border=\"1\" class=\"dataframe\">\n",
       "  <thead>\n",
       "    <tr style=\"text-align: right;\">\n",
       "      <th></th>\n",
       "      <th>语文</th>\n",
       "      <th>数学</th>\n",
       "      <th>英语</th>\n",
       "    </tr>\n",
       "  </thead>\n",
       "  <tbody>\n",
       "    <tr>\n",
       "      <th>0</th>\n",
       "      <td>86.200000</td>\n",
       "      <td>81.000000</td>\n",
       "      <td>76.600000</td>\n",
       "    </tr>\n",
       "    <tr>\n",
       "      <th>1</th>\n",
       "      <td>98.000000</td>\n",
       "      <td>90.000000</td>\n",
       "      <td>98.000000</td>\n",
       "    </tr>\n",
       "    <tr>\n",
       "      <th>2</th>\n",
       "      <td>68.000000</td>\n",
       "      <td>65.000000</td>\n",
       "      <td>30.000000</td>\n",
       "    </tr>\n",
       "    <tr>\n",
       "      <th>3</th>\n",
       "      <td>12.255611</td>\n",
       "      <td>10.440307</td>\n",
       "      <td>27.107195</td>\n",
       "    </tr>\n",
       "    <tr>\n",
       "      <th>4</th>\n",
       "      <td>150.200000</td>\n",
       "      <td>109.000000</td>\n",
       "      <td>734.800000</td>\n",
       "    </tr>\n",
       "  </tbody>\n",
       "</table>\n",
       "</div>"
      ],
      "text/plain": [
       "           语文          数学          英语\n",
       "0   86.200000   81.000000   76.600000\n",
       "1   98.000000   90.000000   98.000000\n",
       "2   68.000000   65.000000   30.000000\n",
       "3   12.255611   10.440307   27.107195\n",
       "4  150.200000  109.000000  734.800000"
      ]
     },
     "execution_count": 45,
     "metadata": {},
     "output_type": "execute_result"
    }
   ],
   "source": [
    "from pandas import DataFrame\n",
    "score = {'语文':[68,95,98,90,80],  '数学':[65,76,86,88,90], '英语':[30,98,88,77,90]}\n",
    "df= DataFrame(score, index=['张飞','关羽','刘备','典韦','许褚'], columns=['语文','数学','英语'])\n",
    "mean_1=df.mean()\n",
    "max_1=df.max()\n",
    "min_1=df.min()\n",
    "std_1=df.std()\n",
    "var_1=df.var()\n",
    "result=DataFrame([mean,max_1,min_1,std,var])\n",
    "result"
   ]
  },
  {
   "cell_type": "code",
   "execution_count": 23,
   "metadata": {},
   "outputs": [
    {
     "name": "stdout",
     "output_type": "stream",
     "text": [
      "刘备    272\n",
      "关羽    269\n",
      "许褚    260\n",
      "典韦    255\n",
      "张飞    163\n",
      "dtype: int64\n"
     ]
    }
   ],
   "source": [
    "sum_score=df.sum(axis=1)\n",
    "sum_score=sum_score.sort_values(ascending=False)\n",
    "print(sum_score)"
   ]
  }
 ],
 "metadata": {
  "kernelspec": {
   "display_name": "Python 3",
   "language": "python",
   "name": "python3"
  },
  "language_info": {
   "codemirror_mode": {
    "name": "ipython",
    "version": 3
   },
   "file_extension": ".py",
   "mimetype": "text/x-python",
   "name": "python",
   "nbconvert_exporter": "python",
   "pygments_lexer": "ipython3",
   "version": "3.7.6"
  }
 },
 "nbformat": 4,
 "nbformat_minor": 4
}
