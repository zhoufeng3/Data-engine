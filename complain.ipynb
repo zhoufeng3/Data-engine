{
 "cells": [
  {
   "cell_type": "code",
   "execution_count": 7,
   "metadata": {},
   "outputs": [
    {
     "name": "stdout",
     "output_type": "stream",
     "text": [
      "        count\n",
      "brand        \n",
      "吉利汽车       96\n",
      "一汽马自达      95\n",
      "一汽大众       58\n",
      "上汽大众       36\n",
      "一汽大众奥迪     19\n",
      "...       ...\n",
      "天津一汽        1\n",
      "多士星         1\n",
      "北汽新能源       1\n",
      "北汽昌河        1\n",
      "东风小康        1\n",
      "\n",
      "[74 rows x 1 columns]\n",
      "           count\n",
      "car_model       \n",
      "阿特兹           75\n",
      "星越            43\n",
      "速腾            22\n",
      "马自达CX-4       20\n",
      "博越            13\n",
      "...          ...\n",
      "悦翔             1\n",
      "捷豹XEL          1\n",
      "捷豹XFL          1\n",
      "撼路者            1\n",
      "高尔夫（进口）        1\n",
      "\n",
      "[212 rows x 1 columns]\n",
      "        average car complain\n",
      "brand                       \n",
      "一汽马自达              47.500000\n",
      "吉利汽车                9.600000\n",
      "一汽大众                8.285714\n",
      "广汽丰田                5.666667\n",
      "上汽大众                3.600000\n",
      "...                      ...\n",
      "东风乘用车               1.000000\n",
      "奔驰（进口）              1.000000\n",
      "奥迪（进口）              1.000000\n",
      "宝沃汽车                1.000000\n",
      "一汽解放                1.000000\n",
      "\n",
      "[74 rows x 1 columns]\n"
     ]
    }
   ],
   "source": [
    "import pandas as pd\n",
    "import numpy as np\n",
    "\n",
    "data=pd.read_csv(r'D:\\6Python\\HeiMa\\car_complain.csv')\n",
    "df_new=data.problem.str.get_dummies(',')\n",
    "data=data.drop('problem',axis=1).join(df_new)\n",
    "\n",
    "def f(x):\n",
    "    x=x.replace('一汽-大众','一汽大众')\n",
    "    return (x)\n",
    "data['brand']=data['brand'].apply(f)\n",
    "\n",
    "result1=data.groupby(['brand'])['id'].agg(['count'])\n",
    "result1=result1.sort_values('count',ascending=False)\n",
    "print(result1)\n",
    "\n",
    "result2=data.groupby(['car_model'])['id'].agg(['count'])\n",
    "result2=result2.sort_values('count',ascending=False)\n",
    "print(result2)\n",
    "\n",
    "result3=data.groupby(['brand','car_model'])['id'].agg(['count'])\n",
    "brand_complain_count=result3.groupby(['brand'])['count'].agg(['sum'])\n",
    "result5=result3.groupby(['brand','car_model']).agg(['count'])\n",
    "brand_model_count=result5.groupby(['brand'])['count'].agg(['sum'])\n",
    "avg_complain=pd.DataFrame(np.divide(brand_complain_count,brand_model_count))\n",
    "avg_complain=avg_complain.sort_values('sum',ascending=False)\n",
    "avg_complain.rename(columns={'sum': 'average car complain'}, inplace = True)\n",
    "print(avg_complain)"
   ]
  },
  {
   "cell_type": "code",
   "execution_count": null,
   "metadata": {},
   "outputs": [],
   "source": []
  }
 ],
 "metadata": {
  "kernelspec": {
   "display_name": "Python 3",
   "language": "python",
   "name": "python3"
  },
  "language_info": {
   "codemirror_mode": {
    "name": "ipython",
    "version": 3
   },
   "file_extension": ".py",
   "mimetype": "text/x-python",
   "name": "python",
   "nbconvert_exporter": "python",
   "pygments_lexer": "ipython3",
   "version": "3.7.6"
  }
 },
 "nbformat": 4,
 "nbformat_minor": 4
}
